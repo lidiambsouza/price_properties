{
  "cells": [
    {
      "cell_type": "markdown",
      "id": "89096e7b",
      "metadata": {
        "id": "89096e7b"
      },
      "source": [
        "<p><h3>1. Ler os dados</h3></p>\n",
        "<span>Ler os dados  no arquivo csv, <b>Real_State_Properati</b></span>"
      ]
    },
    {
      "cell_type": "code",
      "execution_count": null,
      "id": "aeccb08c",
      "metadata": {
        "colab": {
          "base_uri": "https://localhost:8080/",
          "height": 424
        },
        "id": "aeccb08c",
        "outputId": "6ff1eb1e-d9e5-4ad4-d843-1e85bed553eb"
      },
      "outputs": [],
      "source": [
        "import pandas as pd\n",
        "import numpy as np\n",
        "import matplotlib.pyplot as plt\n",
        "import seaborn as sns\n",
        "\n",
        "import os\n",
        "import folium\n",
        "from folium.plugins import HeatMap\n",
        "\n",
        "df = pd.read_csv(\"Real_State_Properati.csv\", sep = '\\t')\n",
        "df\n"
      ]
    },
    {
      "cell_type": "markdown",
      "id": "d95514d4",
      "metadata": {
        "id": "d95514d4"
      },
      "source": [
        "<p><h3>2. Limpeza de dados</h3></p>\n",
        "<span>Preparar os dados obtidos da leitura do arquivo csv</span>"
      ]
    },
    {
      "cell_type": "markdown",
      "id": "cb6d815b",
      "metadata": {
        "id": "cb6d815b"
      },
      "source": [
        "<h4>2.1. Substituição de dados</h4>"
      ]
    },
    {
      "cell_type": "code",
      "execution_count": null,
      "id": "6752b79d",
      "metadata": {
        "colab": {
          "base_uri": "https://localhost:8080/",
          "height": 661
        },
        "id": "6752b79d",
        "outputId": "c45a9e64-c217-419c-d0d6-1bf10cd24921"
      },
      "outputs": [],
      "source": [
        "dfdiffsurfacezerado = df['surface_total_in_m2'] != 0 \n",
        "df2 = df[dfdiffsurfacezerado]\n",
        "dfGroup = df2.groupby(['property_type', 'place_name']).mean('surface_total_in_m2')\n",
        "dfmerge = pd.merge(df, dfGroup, on=['property_type', 'place_name'])\n",
        "dfmerge = dfmerge.rename(columns={'surface_total_in_m2_y': 'surface_total_in_m2_media'})\n",
        "dfmerge['surface_total_in_m2_Final'] = np.where(dfmerge['surface_total_in_m2_x']== 0, dfmerge['surface_total_in_m2_media'] , dfmerge['surface_total_in_m2_x'])\n",
        "dfmerge"
      ]
    },
    {
      "cell_type": "code",
      "execution_count": null,
      "id": "7c3a5e49",
      "metadata": {
        "colab": {
          "base_uri": "https://localhost:8080/",
          "height": 424
        },
        "id": "7c3a5e49",
        "outputId": "25ccf509-28a6-42f2-b105-7a9deb1212ad"
      },
      "outputs": [],
      "source": [
        "dfmerge = dfmerge.drop(columns={'surface_total_in_m2_x','lat_y','lon_y','price_y'})\n",
        "dfmerge = dfmerge.rename(columns={'lat_x': 'lat'})\n",
        "dfmerge = dfmerge.rename(columns={'lon_x': 'lon'})\n",
        "dfmerge = dfmerge.rename(columns={'price_x': 'price'})\n",
        "dfmerge"
      ]
    },
    {
      "cell_type": "markdown",
      "id": "ea73db88",
      "metadata": {
        "id": "ea73db88"
      },
      "source": [
        "<h4>2.2. Conversão de dados</h4>"
      ]
    },
    {
      "cell_type": "markdown",
      "id": "c17a984e",
      "metadata": {
        "id": "c17a984e"
      },
      "source": [
        "Adicionando uma coluna <b>price_usd</b> no dataframe, na qual valores que estão em peso argentino seram convertido para dolar americano"
      ]
    },
    {
      "cell_type": "code",
      "execution_count": null,
      "id": "a0de91f1",
      "metadata": {
        "colab": {
          "base_uri": "https://localhost:8080/",
          "height": 424
        },
        "id": "a0de91f1",
        "outputId": "3d728b8d-dd2d-4442-baa2-8959efecc4a0"
      },
      "outputs": [],
      "source": [
        "dfmerge['price_usd']= dfmerge.apply(lambda x: x.price * 0.0085 if x.currency!='USD' else x.price,axis=1)\n",
        "dfmerge"
      ]
    },
    {
      "cell_type": "markdown",
      "id": "582528bf",
      "metadata": {
        "id": "582528bf"
      },
      "source": [
        "<h4>2.3. Criar informações baseadas nos dados</h4>"
      ]
    },
    {
      "cell_type": "code",
      "execution_count": null,
      "id": "ce3d8b92",
      "metadata": {
        "colab": {
          "base_uri": "https://localhost:8080/",
          "height": 424
        },
        "id": "ce3d8b92",
        "outputId": "88035fd3-e857-4e64-cf39-01963edf0adb",
        "scrolled": false
      },
      "outputs": [],
      "source": [
        "dfmerge['preco_metro'] = dfmerge['price_usd'] / dfmerge['surface_total_in_m2_Final']\n",
        "dfmerge"
      ]
    },
    {
      "cell_type": "code",
      "execution_count": null,
      "id": "c1d05740",
      "metadata": {
        "id": "c1d05740"
      },
      "outputs": [],
      "source": [
        "############################## outlier MUITO ALTO\n",
        "indexNames = dfmerge[ dfmerge['preco_metro'] > 206332 ].index\n",
        "dfmerge.drop(indexNames , inplace=True)"
      ]
    },
    {
      "cell_type": "markdown",
      "id": "672e2fe0",
      "metadata": {
        "id": "672e2fe0"
      },
      "source": [
        "<p><h3>3. Analisando os dados</h3></p>\n",
        "<span>Demonstrar através de gráficos as informações obtidas dos dados do arquivo csv</span>"
      ]
    },
    {
      "cell_type": "markdown",
      "id": "7e9d051f",
      "metadata": {
        "id": "7e9d051f"
      },
      "source": [
        "<h4>3.1. Preço do metro quadrado por bairro</h4>"
      ]
    },
    {
      "cell_type": "markdown",
      "id": "87dea574",
      "metadata": {
        "id": "87dea574"
      },
      "source": []
    },
    {
      "cell_type": "code",
      "execution_count": null,
      "id": "dbaa4274",
      "metadata": {
        "colab": {
          "base_uri": "https://localhost:8080/",
          "height": 455
        },
        "id": "dbaa4274",
        "outputId": "782835d1-8c0f-45ed-9a1e-5c312d779457"
      },
      "outputs": [],
      "source": [
        "\n",
        "medias_bairro = dfmerge.groupby(['place_name'])['preco_metro'].agg(['max','min','mean','median'])\n",
        "medias_bairro"
      ]
    },
    {
      "cell_type": "markdown",
      "id": "3e0818b5",
      "metadata": {
        "id": "3e0818b5"
      },
      "source": [
        "<h5>3.1.1. Media do preço do metro quadrado por bairro</h5>"
      ]
    },
    {
      "cell_type": "code",
      "execution_count": null,
      "id": "78a0f2ce",
      "metadata": {
        "colab": {
          "base_uri": "https://localhost:8080/",
          "height": 1000
        },
        "id": "78a0f2ce",
        "outputId": "78db4d15-ed6a-4dc2-fdd9-5eba9391b64f"
      },
      "outputs": [],
      "source": [
        "medias_bairro = medias_bairro.sort_values(by=['mean'], ascending=True)\n",
        "plt.figure(figsize = (45, 30))\n",
        "plt.xlabel('Bairro', fontsize=14, color='red')\n",
        "plt.ylabel('Preço do metro quadrado', fontsize=14, color='red')\n",
        "plt.stem(medias_bairro.index, medias_bairro['mean'])\n",
        "plt.xticks(rotation = 35)\n",
        "plt.show()"
      ]
    },
    {
      "cell_type": "markdown",
      "id": "135ac2df",
      "metadata": {
        "id": "135ac2df"
      },
      "source": [
        "<h5>3.1.2. Máximo do preço do metro quadrado por bairro</h5>"
      ]
    },
    {
      "cell_type": "code",
      "execution_count": null,
      "id": "8004f38b",
      "metadata": {
        "colab": {
          "base_uri": "https://localhost:8080/",
          "height": 1000
        },
        "id": "8004f38b",
        "outputId": "6fe41304-6345-4b93-8899-6bade6e1433e"
      },
      "outputs": [],
      "source": [
        "medias_bairro = medias_bairro.sort_values(by=['max'], ascending=True)\n",
        "plt.figure(figsize = (45, 30))\n",
        "plt.xlabel('Bairro', fontsize=14, color='red')\n",
        "plt.ylabel('Preço do metro quadrado', fontsize=14, color='red')\n",
        "plt.stem(medias_bairro.index, medias_bairro['max'])\n",
        "plt.xticks(rotation = 35)\n",
        "plt.show()"
      ]
    },
    {
      "cell_type": "markdown",
      "id": "b6d7c9a0",
      "metadata": {
        "id": "b6d7c9a0"
      },
      "source": [
        "<h5>3.1.3. Mínimo do preço do metro quadrado por bairro</h5>"
      ]
    },
    {
      "cell_type": "code",
      "execution_count": null,
      "id": "0c46d085",
      "metadata": {
        "colab": {
          "base_uri": "https://localhost:8080/",
          "height": 1000
        },
        "id": "0c46d085",
        "outputId": "f49f4685-b171-48a5-de60-b2e39131850d"
      },
      "outputs": [],
      "source": [
        "medias_bairro = medias_bairro.sort_values(by=['min'], ascending=True)\n",
        "plt.figure(figsize = (45, 30))\n",
        "plt.xlabel('Bairro', fontsize=14, color='red')\n",
        "plt.ylabel('Preço do metro quadrado', fontsize=14, color='red')\n",
        "plt.stem(medias_bairro.index, medias_bairro['min'])\n",
        "plt.xticks(rotation = 35)\n",
        "plt.show()"
      ]
    },
    {
      "cell_type": "markdown",
      "id": "f2aa9c3f",
      "metadata": {
        "id": "f2aa9c3f"
      },
      "source": [
        "<h4>3.2. Preço do metro quadrado por tipo</h4>"
      ]
    },
    {
      "cell_type": "code",
      "execution_count": null,
      "id": "32c006e8",
      "metadata": {
        "colab": {
          "base_uri": "https://localhost:8080/",
          "height": 206
        },
        "id": "32c006e8",
        "outputId": "06d4ab46-d75f-45df-9179-a67350b928e0"
      },
      "outputs": [],
      "source": [
        "medias_tipos = dfmerge.groupby(['property_type'])['preco_metro'].agg(['max','min','mean','median'])\n",
        "medias_tipos"
      ]
    },
    {
      "cell_type": "markdown",
      "id": "75258d30",
      "metadata": {
        "id": "75258d30"
      },
      "source": [
        "<h5>3.2.1. Media do preço do metro quadrado por tipo</h5>"
      ]
    },
    {
      "cell_type": "code",
      "execution_count": null,
      "id": "976149bb",
      "metadata": {
        "colab": {
          "base_uri": "https://localhost:8080/",
          "height": 300
        },
        "id": "976149bb",
        "outputId": "928740a4-ddd3-496f-cea4-035b502616f7"
      },
      "outputs": [],
      "source": [
        "array = dfmerge.to_numpy()\n",
        "\n",
        "PH = []\n",
        "apartment = []\n",
        "house = []\n",
        "store = []\n",
        "\n",
        "for i in range(len(array.T[0])):\n",
        "    if array.T[0][i] == 'PH':\n",
        "        PH.append(array.T[11][i])\n",
        "    if array.T[0][i] == 'apartment':\n",
        "        apartment.append(array.T[11][i])\n",
        "    if array.T[0][i] == 'house':\n",
        "        house.append(array.T[11][i])\n",
        "    if array.T[0][i] == 'store':\n",
        "        store.append(array.T[11][i])\n",
        "\n",
        "media_PH = np.mean(PH)\n",
        "media_ap = np.mean(apartment)\n",
        "media_houseH = np.mean(house)\n",
        "media_store = np.mean(store)\n",
        "\n",
        "x = ['PH', 'Apartament', 'House', 'Store']\n",
        "\n",
        "y = [media_PH, media_ap, media_houseH, media_store]\n",
        "\n",
        "\n",
        "plt.xlabel('Tipo do imovel', fontsize=14, color='red')\n",
        "plt.ylabel('Preço do metro quadrado', fontsize=14, color='red')\n",
        "\n",
        "plt.bar (x, y)"
      ]
    },
    {
      "cell_type": "markdown",
      "id": "5104e40f",
      "metadata": {
        "id": "5104e40f"
      },
      "source": [
        "<h5>3.2.2. Máximo do preço do metro quadrado por tipo</h5>"
      ]
    },
    {
      "cell_type": "code",
      "execution_count": null,
      "id": "397fa242",
      "metadata": {
        "colab": {
          "base_uri": "https://localhost:8080/",
          "height": 501
        },
        "id": "397fa242",
        "outputId": "30769647-3050-4087-8170-33d170ce2ab3"
      },
      "outputs": [],
      "source": [
        "plt.figure(figsize = (15, 8))\n",
        "plt.xlabel('Tipo do imovel', fontsize=14, color='red')\n",
        "plt.ylabel('Preço do metro quadrado', fontsize=14, color='red')\n",
        "plt.bar(medias_tipos.index, medias_tipos['max'])\n",
        "plt.show()"
      ]
    },
    {
      "cell_type": "markdown",
      "id": "344e2101",
      "metadata": {
        "id": "344e2101"
      },
      "source": [
        "<h5>3.2.3. Mínimo do preço do metro quadrado por tipo</h5>"
      ]
    },
    {
      "cell_type": "code",
      "execution_count": null,
      "id": "3894f169",
      "metadata": {
        "colab": {
          "base_uri": "https://localhost:8080/",
          "height": 501
        },
        "id": "3894f169",
        "outputId": "0a00ee79-5b04-4916-b94e-262785264492"
      },
      "outputs": [],
      "source": [
        "plt.figure(figsize = (15, 8))\n",
        "plt.xlabel('Tipo do imovel', fontsize=14, color='red')\n",
        "plt.ylabel('Preço do metro quadrado', fontsize=14, color='red')\n",
        "plt.bar(medias_tipos.index, medias_tipos['min'])\n",
        "plt.show()"
      ]
    },
    {
      "cell_type": "markdown",
      "id": "22e58cce",
      "metadata": {
        "id": "22e58cce"
      },
      "source": [
        "<h4>3.3. Preço do metro quadrado por bairro e tipo</h4>"
      ]
    },
    {
      "cell_type": "code",
      "execution_count": null,
      "id": "43a81f2e",
      "metadata": {
        "colab": {
          "base_uri": "https://localhost:8080/",
          "height": 455
        },
        "id": "43a81f2e",
        "outputId": "7371a22f-79f6-4794-c87e-c0ecd8a4fceb"
      },
      "outputs": [],
      "source": [
        "medias_bairro_tipos = dfmerge.groupby(['property_type','place_name'])['preco_metro'].agg(['max','min','mean','median'])\n",
        "medias_bairro_tipos"
      ]
    },
    {
      "cell_type": "code",
      "execution_count": null,
      "id": "3afaa3a7",
      "metadata": {
        "colab": {
          "base_uri": "https://localhost:8080/",
          "height": 424
        },
        "id": "3afaa3a7",
        "outputId": "a0dc48d2-37d6-483f-ecbf-57d369d0e961"
      },
      "outputs": [],
      "source": [
        "medias_bairro_tipos_final = medias_bairro_tipos.reset_index([ 'property_type','place_name' ])\n",
        "medias_bairro_tipos_final['place_name_type'] = medias_bairro_tipos_final[['property_type', 'place_name']].apply(' '.join, axis=1)\n",
        "medias_bairro_tipos_final"
      ]
    },
    {
      "cell_type": "markdown",
      "id": "16879107",
      "metadata": {
        "id": "16879107"
      },
      "source": [
        "<h5>3.3.1. Media do preço do metro quadrado por bairro e tipo</h5>"
      ]
    },
    {
      "cell_type": "code",
      "execution_count": null,
      "id": "6557b74a",
      "metadata": {
        "colab": {
          "base_uri": "https://localhost:8080/",
          "height": 824
        },
        "id": "6557b74a",
        "outputId": "f6815d51-be70-486c-c9fc-1680ca67a888"
      },
      "outputs": [],
      "source": [
        "plt.figure(figsize = (120, 60))\n",
        "plt.xlabel('Bairro e tipos', fontsize=14, color='red')\n",
        "plt.ylabel('Preço do metro quadrado', fontsize=14, color='red')\n",
        "plt.stem(medias_bairro_tipos_final.place_name_type, medias_bairro_tipos_final['mean'])\n",
        "plt.xticks(rotation = 35)\n",
        "plt.show()"
      ]
    },
    {
      "cell_type": "markdown",
      "id": "03a0e90b",
      "metadata": {
        "id": "03a0e90b"
      },
      "source": [
        "<h4>3.4. Mapa de calor</h4>"
      ]
    },
    {
      "cell_type": "code",
      "execution_count": null,
      "id": "e1ffa287",
      "metadata": {
        "colab": {
          "base_uri": "https://localhost:8080/",
          "height": 915
        },
        "id": "e1ffa287",
        "outputId": "d7b12a05-d288-4a32-a322-fad83c5ba7e1"
      },
      "outputs": [],
      "source": [
        "map_hooray = folium.Map(location=[-34.62, -58.4],\n",
        "                    zoom_start = 11) # Uses lat then lon. The bigger the zoom number, the closer in you get\n",
        "map_hooray # Calls the map to display\n",
        "#heat_df = dfmerge[dfmerge['Speed_limit']=='40'] # Reducing data size so it runs faster\n",
        "#heat_df = dfmerge[dfmerge['Year']=='2007'] # Reducing data size so it runs faster\n",
        "heat_df = dfmerge[['lat', 'lon']]\n",
        "heat_df = heat_df.dropna(axis=0, subset=['lat','lon'])\n",
        "\n",
        "# List comprehension to make out list of lists\n",
        "heat_data = [[row['lat'],row['lon']] for index, row in heat_df.iterrows()]\n",
        "\n",
        "# Plot it on the map\n",
        "HeatMap(heat_data).add_to(map_hooray)\n",
        "\n",
        "# Display the map\n",
        "map_hooray"
      ]
    },
    {
      "cell_type": "markdown",
      "id": "5dbdc203",
      "metadata": {
        "id": "5dbdc203"
      },
      "source": [
        "<p><h3>4. Os principais por preço do metro quadrado</h3></p>\n",
        "<span>Demonstrar os cincos principais por valor do preço do metro quadrado</span>"
      ]
    },
    {
      "cell_type": "markdown",
      "id": "c8c747b0",
      "metadata": {
        "id": "c8c747b0"
      },
      "source": [
        "<h4>4.1. Por localização do imovel</h4>"
      ]
    },
    {
      "cell_type": "code",
      "execution_count": null,
      "id": "11a411ca",
      "metadata": {
        "colab": {
          "base_uri": "https://localhost:8080/",
          "height": 455
        },
        "id": "11a411ca",
        "outputId": "7ea6dde0-efa6-4934-e1ab-4c118e4f609a"
      },
      "outputs": [],
      "source": [
        "medias_bairro_ordenada= medias_bairro.sort_values(by=['mean'], ascending=False)\n",
        "medias_bairro_ordenada"
      ]
    },
    {
      "cell_type": "markdown",
      "id": "4b9f5921",
      "metadata": {
        "id": "4b9f5921"
      },
      "source": [
        "<h5>4.1.1. Maior custo por metro quadrado</h5>"
      ]
    },
    {
      "cell_type": "code",
      "execution_count": null,
      "id": "aee482f2",
      "metadata": {
        "colab": {
          "base_uri": "https://localhost:8080/",
          "height": 238
        },
        "id": "aee482f2",
        "outputId": "beefc8a3-5a09-459d-dd73-d4d2bb842dc7"
      },
      "outputs": [],
      "source": [
        "medias_bairro_ordenada_5_maior=medias_bairro_ordenada.head(5)\n",
        "medias_bairro_ordenada_5_maior"
      ]
    },
    {
      "cell_type": "code",
      "execution_count": null,
      "id": "d442b47d",
      "metadata": {
        "colab": {
          "base_uri": "https://localhost:8080/",
          "height": 501
        },
        "id": "d442b47d",
        "outputId": "29aba966-4081-4d9d-8c69-1ff2273af9b3"
      },
      "outputs": [],
      "source": [
        "plt.figure(figsize = (15, 8))\n",
        "plt.xlabel('Bairro do imovel', fontsize=14, color='red')\n",
        "plt.ylabel('Preço do metro quadrado', fontsize=14, color='red')\n",
        "plt.barh(medias_bairro_ordenada_5_maior.index, medias_bairro_ordenada_5_maior['mean'], color='green')\n",
        "plt.show()"
      ]
    },
    {
      "cell_type": "markdown",
      "id": "9523e77b",
      "metadata": {
        "id": "9523e77b"
      },
      "source": [
        "<h5>4.1.2. Menor custo por metro quadrado</h5>"
      ]
    },
    {
      "cell_type": "code",
      "execution_count": null,
      "id": "9b8967f4",
      "metadata": {
        "colab": {
          "base_uri": "https://localhost:8080/",
          "height": 238
        },
        "id": "9b8967f4",
        "outputId": "c9c16835-8109-45a2-e0f8-39c9cfb28a13"
      },
      "outputs": [],
      "source": [
        "medias_bairro_ordenada_5_menor=medias_bairro_ordenada.tail(5)\n",
        "medias_bairro_ordenada_5_menor.sort_values(by=['mean'], ascending=True)"
      ]
    },
    {
      "cell_type": "code",
      "execution_count": null,
      "id": "44fe5d2f",
      "metadata": {
        "colab": {
          "base_uri": "https://localhost:8080/",
          "height": 501
        },
        "id": "44fe5d2f",
        "outputId": "4a696013-cb08-423f-c1c1-79d1d1636245"
      },
      "outputs": [],
      "source": [
        "plt.figure(figsize = (15, 8))\n",
        "plt.xlabel('Bairro do imovel', fontsize=14, color='red')\n",
        "plt.ylabel('Preço do metro quadrado', fontsize=14, color='red')\n",
        "plt.barh(medias_bairro_ordenada_5_menor.index, medias_bairro_ordenada_5_menor['mean'],color='green')\n",
        "plt.show()"
      ]
    },
    {
      "cell_type": "markdown",
      "id": "eb3f1539",
      "metadata": {
        "id": "eb3f1539"
      },
      "source": [
        "<h4>4.2. Por localização e tipo do imovel</h4>"
      ]
    },
    {
      "cell_type": "code",
      "execution_count": null,
      "id": "96afb883",
      "metadata": {
        "colab": {
          "base_uri": "https://localhost:8080/",
          "height": 424
        },
        "id": "96afb883",
        "outputId": "9f5eb548-5426-46e7-e65f-c9607ca0fca4"
      },
      "outputs": [],
      "source": [
        "medias_bairro_tipos_ordenada= medias_bairro_tipos_final.sort_values(by=['mean'], ascending=False)\n",
        "medias_bairro_tipos_ordenada"
      ]
    },
    {
      "cell_type": "markdown",
      "id": "64cee93c",
      "metadata": {
        "id": "64cee93c"
      },
      "source": [
        "<h5>4.2.1. Maior custo por metro quadrado</h5>"
      ]
    },
    {
      "cell_type": "code",
      "execution_count": null,
      "id": "63332912",
      "metadata": {
        "colab": {
          "base_uri": "https://localhost:8080/",
          "height": 206
        },
        "id": "63332912",
        "outputId": "bdbc8e1f-ca52-41a3-aa9e-7562ed6088ba"
      },
      "outputs": [],
      "source": [
        "\n",
        "medias_bairro_tipos_ordenada_5_maior=medias_bairro_tipos_ordenada.head(5)\n",
        "medias_bairro_tipos_ordenada_5_maior\n"
      ]
    },
    {
      "cell_type": "code",
      "execution_count": null,
      "id": "f025c69d",
      "metadata": {
        "colab": {
          "base_uri": "https://localhost:8080/",
          "height": 501
        },
        "id": "f025c69d",
        "outputId": "e364a400-ab64-4814-d144-46f2c7913db6"
      },
      "outputs": [],
      "source": [
        "plt.figure(figsize = (15, 8))\n",
        "plt.xlabel('Bairro do imovel', fontsize=14, color='red')\n",
        "plt.ylabel('Preço do metro quadrado', fontsize=14, color='red')\n",
        "plt.scatter(medias_bairro_tipos_ordenada_5_maior.place_name_type, medias_bairro_tipos_ordenada_5_maior['mean'],color='red')\n",
        "plt.show()"
      ]
    },
    {
      "cell_type": "markdown",
      "id": "7a8f9c36",
      "metadata": {
        "id": "7a8f9c36"
      },
      "source": [
        "<h5>4.2.2. Menor custo por metro quadrado</h5>"
      ]
    },
    {
      "cell_type": "code",
      "execution_count": null,
      "id": "2862bcb8",
      "metadata": {
        "colab": {
          "base_uri": "https://localhost:8080/",
          "height": 206
        },
        "id": "2862bcb8",
        "outputId": "e1b411ba-a61f-4f97-983b-4ec1aac66664"
      },
      "outputs": [],
      "source": [
        "medias_bairro_tipos_ordenada_5_menor=medias_bairro_tipos_ordenada.tail(5)\n",
        "medias_bairro_tipos_ordenada_5_menor.sort_values(by=['mean'], ascending=True)"
      ]
    },
    {
      "cell_type": "code",
      "execution_count": null,
      "id": "1c82feae",
      "metadata": {
        "colab": {
          "base_uri": "https://localhost:8080/",
          "height": 501
        },
        "id": "1c82feae",
        "outputId": "f9c78ac7-622b-4674-e345-cf6ef13b59a1"
      },
      "outputs": [],
      "source": [
        "plt.figure(figsize = (15, 8))\n",
        "plt.xlabel('Bairro do imovel', fontsize=14, color='red')\n",
        "plt.ylabel('Preço do metro quadrado', fontsize=14, color='red')\n",
        "plt.scatter(medias_bairro_tipos_ordenada_5_menor.place_name_type, medias_bairro_tipos_ordenada_5_menor['mean'],color='red')\n",
        "plt.show()"
      ]
    },
    {
      "cell_type": "markdown",
      "id": "247d4e7a",
      "metadata": {
        "id": "247d4e7a"
      },
      "source": [
        "<p><h3>5. Boxplot</h3></p>"
      ]
    },
    {
      "cell_type": "code",
      "execution_count": null,
      "id": "dec2ec26",
      "metadata": {
        "id": "dec2ec26"
      },
      "outputs": [],
      "source": [
        "#criei uma tabela para cada tipo\n",
        "\n",
        "df_PH = dfmerge[dfmerge['property_type'].isin(['PH'])]\n",
        "\n",
        "df_apartment = dfmerge[dfmerge['property_type'].isin(['apartment'])]\n",
        "\n",
        "df_house = dfmerge[dfmerge['property_type'].isin(['house'])]\n",
        "\n",
        "df_store = dfmerge[dfmerge['property_type'].isin(['store'])]\n"
      ]
    },
    {
      "cell_type": "code",
      "execution_count": null,
      "id": "102d8ff0",
      "metadata": {
        "colab": {
          "base_uri": "https://localhost:8080/",
          "height": 607
        },
        "id": "102d8ff0",
        "outputId": "ce9ac828-1c5a-4be2-bacc-c1578efbebb6",
        "scrolled": false
      },
      "outputs": [],
      "source": [
        "data_PH = df_PH['preco_metro'].tolist()\n",
        "data_apartment = df_apartment['preco_metro'].tolist()\n",
        "data_house = df_house['preco_metro'].tolist()\n",
        "data_store = df_store['preco_metro'].tolist()\n",
        "\n",
        "legenda = ['PH','Apartamento','House','Store']\n",
        "\n",
        "data_boxplot = [data_PH, data_apartment, data_house, data_store]\n",
        "\n",
        "fig = plt.figure(figsize =(10, 7))\n",
        "\n",
        "ax = fig.add_axes([0, 0, 1, 1])\n",
        " \n",
        "bp = ax.boxplot(data_boxplot,\n",
        "               labels = legenda)\n",
        "\n",
        "plt.show()"
      ]
    },
    {
      "cell_type": "markdown",
      "id": "2e6a66f9",
      "metadata": {
        "id": "2e6a66f9"
      },
      "source": [
        "<h3>6. Macros Região</h3>"
      ]
    },
    {
      "cell_type": "markdown",
      "id": "f24a9745",
      "metadata": {
        "id": "f24a9745"
      },
      "source": [
        "<h4>6.1. Metros quadrados totais por bairro</h4>"
      ]
    },
    {
      "cell_type": "code",
      "execution_count": null,
      "id": "36905449",
      "metadata": {
        "colab": {
          "base_uri": "https://localhost:8080/",
          "height": 455
        },
        "id": "36905449",
        "outputId": "6931c9fe-8748-40f7-ca11-3843afc87a81"
      },
      "outputs": [],
      "source": [
        "soma_bairros = dfmerge.groupby(['place_name'])['surface_total_in_m2_Final'].agg(['sum'])\n",
        "soma_bairros_ordenado = soma_bairros.sort_values(by=['sum'], ascending=False)\n",
        "\n",
        "\n",
        "soma_bairros_ordenado"
      ]
    },
    {
      "cell_type": "code",
      "execution_count": null,
      "id": "3fddd906",
      "metadata": {
        "colab": {
          "base_uri": "https://localhost:8080/",
          "height": 332
        },
        "id": "3fddd906",
        "outputId": "b227ddfe-e7e0-491b-e293-4fb74eaa40c0"
      },
      "outputs": [],
      "source": [
        "soma_bairros_9 = soma_bairros_ordenado.head(9)\n",
        "soma_bairros_9 = soma_bairros_9.reset_index(['place_name'])\n",
        "\n",
        "soma_bairros_9"
      ]
    },
    {
      "cell_type": "code",
      "execution_count": null,
      "id": "81632a03",
      "metadata": {
        "colab": {
          "base_uri": "https://localhost:8080/",
          "height": 81
        },
        "id": "81632a03",
        "outputId": "a794ad41-def0-4a91-e3f3-1eed4f9d8a63"
      },
      "outputs": [],
      "source": [
        "todos = soma_bairros_ordenado[9:62].agg(['sum',])\n",
        "todos\n"
      ]
    },
    {
      "cell_type": "code",
      "execution_count": null,
      "id": "f2e73cbb",
      "metadata": {
        "colab": {
          "base_uri": "https://localhost:8080/",
          "height": 363
        },
        "id": "f2e73cbb",
        "outputId": "37d54bba-94a2-482c-c1ab-9e1c04a60f65"
      },
      "outputs": [],
      "source": [
        "soma_bairros_10 = soma_bairros_9.append(todos)\n",
        "\n",
        "\n",
        "soma_bairros_final = soma_bairros_10.fillna('Outros')\n",
        "\n",
        "soma_bairros_final"
      ]
    },
    {
      "cell_type": "code",
      "execution_count": null,
      "id": "a07f4f68",
      "metadata": {
        "colab": {
          "base_uri": "https://localhost:8080/",
          "height": 363
        },
        "id": "a07f4f68",
        "outputId": "c3b0fcba-df4e-4218-8f55-f582982a69e4"
      },
      "outputs": [],
      "source": [
        "# convert_dict = {'sum': int}\n",
        "\n",
        "# soma_bairros_final = soma_bairros_final.astype(convert_dict)\n",
        "\n",
        "soma_bairros_final = soma_bairros_10\n",
        "\n",
        "soma_bairros_final.rename(columns = {'sum':'Soma'}, inplace = True)\n",
        "\n",
        "soma_bairros_final = soma_bairros_10.fillna('Outros')\n",
        "\n",
        "soma_bairros_final"
      ]
    },
    {
      "cell_type": "code",
      "execution_count": null,
      "id": "d69d8dcc",
      "metadata": {
        "colab": {
          "base_uri": "https://localhost:8080/",
          "height": 635
        },
        "id": "d69d8dcc",
        "outputId": "04ea9b1e-3762-4150-ed80-c67ea4f60750"
      },
      "outputs": [],
      "source": [
        "\n",
        "def func(pct, allvalues): \n",
        "    absolute = int(pct / 100.*np.sum(allvalues)) \n",
        "    return \"{:.1f}%)\".format(pct, absolute) \n",
        "\n",
        "fig, ax = plt.subplots(figsize =(15, 10.5)) \n",
        "wedges, texts, autotexts = ax.pie(soma_bairros_final.Soma, \n",
        "                                  autopct = lambda pct: func(pct, soma_bairros_final.Soma),\n",
        "                                  #labels = soma_bairros_final.place_name)\n",
        "                                 )\n",
        "fig, ax.legend(wedges, soma_bairros_final.place_name,\n",
        "              title = \"Bairros\",\n",
        "              loc = \"center right\",\n",
        "              bbox_to_anchor = (1, 0, 0.3, 1))\n",
        "                                \n",
        "plt.title('Total do metro quadrado por bairro.', color='red')\n",
        "\n",
        "fig = plt.figure(figsize =(10, 7)) \n",
        "\n",
        "\n",
        "\n",
        "#plt.pie(soma_bairros_final.Soma, labels = soma_bairros_final.place_name)\n",
        " \n",
        "#plt.show()9"
      ]
    },
    {
      "cell_type": "markdown",
      "id": "93eea5a1",
      "metadata": {
        "id": "93eea5a1"
      },
      "source": [
        "<h4>6.2. Bairros com maior somatória de preço</h4>"
      ]
    },
    {
      "cell_type": "code",
      "execution_count": null,
      "id": "4b5fc6a9",
      "metadata": {
        "colab": {
          "base_uri": "https://localhost:8080/",
          "height": 363
        },
        "id": "4b5fc6a9",
        "outputId": "d0dfac83-2310-45e6-dc27-1e35eb65cdf7",
        "scrolled": false
      },
      "outputs": [],
      "source": [
        "soma_preco = dfmerge.groupby(['place_name'])['price_usd'].agg(['sum'])\n",
        "soma_preco_ordenado = soma_preco.sort_values(by=['sum'], ascending=False)\n",
        "\n",
        "soma_preco_10 = soma_preco_ordenado.head(10)\n",
        "soma_preco_10 = soma_preco_10.reset_index(['place_name'])\n",
        "\n",
        "soma_preco_10"
      ]
    },
    {
      "cell_type": "code",
      "execution_count": null,
      "id": "a6b6f7bd",
      "metadata": {
        "colab": {
          "base_uri": "https://localhost:8080/",
          "height": 363
        },
        "id": "a6b6f7bd",
        "outputId": "dbe9cb36-641f-40ca-dc62-a74128407e9b"
      },
      "outputs": [],
      "source": [
        "soma_preco_10.rename(columns = {'sum':'Soma'}, inplace = True)\n",
        "soma_preco_10"
      ]
    },
    {
      "cell_type": "code",
      "execution_count": null,
      "id": "a97c4c96",
      "metadata": {
        "colab": {
          "base_uri": "https://localhost:8080/",
          "height": 635
        },
        "id": "a97c4c96",
        "outputId": "818fb6b8-e4b3-4366-a8f4-67f5cd101df9"
      },
      "outputs": [],
      "source": [
        "\n",
        "def func(pct, allvalues): \n",
        "    absolute = int(pct / 100.*np.sum(allvalues)) \n",
        "    return \"{:.1f}%)\".format(pct, absolute) \n",
        "fig, ax = plt.subplots(figsize =(15, 10.5)) \n",
        "wedges, texts, autotexts = ax.pie(soma_preco_10.Soma, \n",
        "                                  autopct = lambda pct: func(pct, soma_preco_10.Soma),\n",
        "                                  #labels = soma_preco_10.place_name\n",
        "                                 )\n",
        "fig, ax.legend(wedges, soma_bairros_final.place_name,\n",
        "              title = \"Bairros\",\n",
        "              loc = \"center right\",\n",
        "              bbox_to_anchor = (1, 0, 0.3, 1))\n",
        "\n",
        "plt.title('Total dos valores em dolar por bairro.', color='red')\n",
        "\n",
        "fig = plt.figure(figsize =(10, 7)) \n",
        "\n",
        "\n",
        "\n",
        "\n",
        "#fig = plt.figure(figsize =(10, 7)) \n",
        "#plt.pie(soma_preco_10.Soma, labels = soma_preco_10.place_name)\n",
        "#plt.show()"
      ]
    },
    {
      "cell_type": "markdown",
      "id": "4e6957ef",
      "metadata": {
        "id": "4e6957ef"
      },
      "source": [
        "<h2>TRABALHO PRÁTICO II</h2>"
      ]
    },
    {
      "cell_type": "markdown",
      "id": "859a7c3c",
      "metadata": {
        "id": "859a7c3c"
      },
      "source": [
        "<p><h3>7. Selecionando as informações</h3></p>\n",
        "<span>Para o subconjunto, o tipo de propriedade escolhido foi o tipo \"Apartment\", pois é o unico tipo com registros suficientes para o trabalho. Os bairros ecolhidos foram Recoleta e Palermo, por serem bairros próximos um do outro e com grande quatidade de apartamentos.</span>"
      ]
    },
    {
      "cell_type": "code",
      "execution_count": null,
      "id": "065348e7",
      "metadata": {
        "colab": {
          "base_uri": "https://localhost:8080/",
          "height": 424
        },
        "id": "065348e7",
        "outputId": "8d62988b-4022-4aaf-9110-922f342f8e03"
      },
      "outputs": [],
      "source": [
        "dfApartament = dfmerge[(dfmerge[\"property_type\"] == \"apartment\") & ((dfmerge[\"place_name\"] == \"Recoleta\") | (dfmerge[\"place_name\"] == \"Palermo\"))]\n",
        "dfApartament"
      ]
    },
    {
      "cell_type": "markdown",
      "id": "a4143b3f",
      "metadata": {
        "id": "a4143b3f"
      },
      "source": [
        "<h3>8. Regressão Linear</h3>"
      ]
    },
    {
      "cell_type": "code",
      "execution_count": 1029,
      "id": "tZl2VqiJ-ZKx",
      "metadata": {
        "id": "tZl2VqiJ-ZKx"
      },
      "outputs": [],
      "source": [
        "from sklearn.model_selection import train_test_split\n",
        "from sklearn.linear_model import LinearRegression\n",
        "from sklearn import metrics\n",
        "from sklearn.inspection import permutation_importance\n",
        "import statsmodels.api as sm\n",
        "from sklearn.preprocessing import StandardScaler\n",
        "from sklearn.tree import DecisionTreeRegressor\n",
        "\n",
        "font = {'fontname':'Arial', 'size':'16', 'color':'black', 'weight':'normal'}"
      ]
    },
    {
      "cell_type": "markdown",
      "id": "5cb9d0c3",
      "metadata": {
        "id": "5cb9d0c3"
      },
      "source": [
        "<h4>8.1. Regressão linear simples</h4>"
      ]
    },
    {
      "cell_type": "code",
      "execution_count": null,
      "id": "5e2fc2a2",
      "metadata": {},
      "outputs": [],
      "source": [
        "def info_simple(eixo_y, previsoes):\n",
        "    #Avaliando desempemho\n",
        "    print (\"Avaliação de Desempenho:\")    \n",
        "    print (\"MSE:\", metrics.mean_squared_error(eixo_y, previsoes))\n",
        "    print (\"RMSE:\",np.sqrt(metrics.mean_squared_error(eixo_y, previsoes)) )\n",
        "    print ('MAE:', metrics.mean_absolute_error(eixo_y, previsoes))\n",
        "    print ('R2:', metrics.r2_score(eixo_y, previsoes))\n",
        "    "
      ]
    },
    {
      "cell_type": "code",
      "execution_count": null,
      "id": "9bf1d5b9",
      "metadata": {},
      "outputs": [],
      "source": [
        "def chart_simple(eixo_x, eixo_y, previsoes, label_x, label_y):\n",
        "    \n",
        "    plt.figure(figsize = (20,10))\n",
        "    plt.scatter(eixo_x, eixo_y, color='blue' )\n",
        "    plt.plot( eixo_x, previsoes)\n",
        "\n",
        "    plt.title('Regressão linear simples', font)\n",
        "    plt.xlabel(label_x, font)\n",
        "    plt.ylabel(label_y, font)"
      ]
    },
    {
      "cell_type": "code",
      "execution_count": null,
      "id": "ea9b7ca8",
      "metadata": {},
      "outputs": [],
      "source": [
        "\n",
        "def generate_regression_simple(dadosApartment, label_x, label_y):\n",
        "    dfAp = dfApartament[dadosApartment]\n",
        "        \n",
        "    eixo_x = dfAp.iloc[:,1].values \n",
        "    eixo_y = dfAp.iloc[:,0].values\n",
        "    \n",
        "    #Tranformando os dados em matriz\n",
        "    eixo_x = eixo_x.reshape(-1, 1)\n",
        "    eixo_y = eixo_y.reshape(-1, 1)\n",
        "\n",
        "    funcao_Regressao = LinearRegression()\n",
        "    model = funcao_Regressao.fit( eixo_x, eixo_y )\n",
        "    previsoes = funcao_Regressao.predict(eixo_x)    \n",
        "    \n",
        "    \n",
        "    chart_simple(eixo_x, eixo_y, previsoes, label_x, label_y)\n",
        "    #Avaliando desempemho\n",
        "    info_simple(eixo_y, previsoes)"
      ]
    },
    {
      "cell_type": "markdown",
      "id": "c39d2a2a",
      "metadata": {},
      "source": [
        "<h5>8.1.1. Regressão por preço do metro quadrado</h5>"
      ]
    },
    {
      "cell_type": "code",
      "execution_count": null,
      "id": "f4f77fc1",
      "metadata": {},
      "outputs": [],
      "source": [
        "dadosApartment_preco_metro = [\"preco_metro\",'surface_total_in_m2_Final']\n",
        "generate_regression_simple(dadosApartment_preco_metro, 'Superficie total em m²', 'Preço por metro quadrado')"
      ]
    },
    {
      "cell_type": "markdown",
      "id": "b2283f32",
      "metadata": {},
      "source": [
        "<h5>8.1.2. Regressão por preço em dólar</h5>"
      ]
    },
    {
      "cell_type": "code",
      "execution_count": null,
      "id": "dcbe47fa",
      "metadata": {
        "colab": {
          "base_uri": "https://localhost:8080/",
          "height": 432
        },
        "id": "dcbe47fa",
        "outputId": "b00a5ed6-d5af-43ce-f3b6-5d37aff3a61f"
      },
      "outputs": [],
      "source": [
        "dadosApartment_price_usd = [\"price_usd\",'surface_total_in_m2_Final']\n",
        "generate_regression_simple(dadosApartment_price_usd, 'Superficie total em m²', 'Preço em dolar')"
      ]
    },
    {
      "cell_type": "markdown",
      "id": "2ded493d",
      "metadata": {
        "id": "2ded493d"
      },
      "source": [
        "<h4>8.2. Regressão múltipla</h4>"
      ]
    },
    {
      "cell_type": "code",
      "execution_count": null,
      "id": "c1e2bf88",
      "metadata": {},
      "outputs": [],
      "source": [
        "def info_multiple(model,X, y, predictions):\n",
        "    print ('Intercepto = ', ' ', model.intercept_)\n",
        "    print ('RM = ', ' ', model.coef_)\n",
        "    print ('R2_train = ', ' ', model.score(X, y))\n",
        "    \n",
        "    print (\"MSE:\", metrics.mean_squared_error(y, predictions))\n",
        "    print (\"RMSE:\",np.sqrt(metrics.mean_squared_error(y, predictions)) )\n",
        "    print ('MAE:', metrics.mean_absolute_error(y, predictions))\n",
        "    print ('R2:', metrics.r2_score(y, predictions))"
      ]
    },
    {
      "cell_type": "code",
      "execution_count": null,
      "id": "98a33a29",
      "metadata": {},
      "outputs": [],
      "source": [
        "def chart_multiple(y,predictions, label_x, label_y):\n",
        "        \n",
        "    plt.figure(figsize = (20,10))    \n",
        "    plt.plot(y, \n",
        "         y, \n",
        "         '-.', \n",
        "         c = 'grey'\n",
        "        )\n",
        "    \n",
        "    plt.scatter(predictions, \n",
        "            y, \n",
        "            s = 50, \n",
        "            c = 'r', \n",
        "            marker = '+', \n",
        "            zorder = 10\n",
        "           ) \n",
        "      \n",
        "    plt.title('Regressão linear múltipla',font)\n",
        "    plt.xlabel(label_x,font)\n",
        "    plt.ylabel(label_y,font)\n",
        "    plt.show()"
      ]
    },
    {
      "cell_type": "markdown",
      "id": "J_YLCzeJ4Kbq",
      "metadata": {
        "id": "J_YLCzeJ4Kbq"
      },
      "source": [
        "<span>O método Permutation Importance será utilizado no modelo de Regressão Múltipla para avaliar o impacto das features sobre o modelo.</span>"
      ]
    },
    {
      "cell_type": "code",
      "execution_count": null,
      "id": "d57362bc",
      "metadata": {},
      "outputs": [],
      "source": [
        "def generate_feature_importance(model, X, y):\n",
        "    return permutation_importance(model, X, y, n_repeats=10, random_state=0)"
      ]
    },
    {
      "cell_type": "code",
      "execution_count": null,
      "id": "6013eda7",
      "metadata": {},
      "outputs": [],
      "source": [
        "def info_feature_importance(model, X_test, y_test):\n",
        "    feature_importance = generate_feature_importance(model, X_test, y_test)\n",
        "\n",
        "    column_names = X_test.columns\n",
        "    result = pd.Series(feature_importance.importances_mean, index=column_names)\n",
        "    result.sort_values(ascending=False)\n",
        "    print(result)\n",
        "    print(\"------X-----X----X-------X---X---X\")"
      ]
    },
    {
      "cell_type": "code",
      "execution_count": null,
      "id": "2a0c1a28",
      "metadata": {},
      "outputs": [],
      "source": [
        "def generate_regression_multiple(variaveis, targets, label_x, label_y):\n",
        "    X = dfApartament[variaveis]\n",
        "    y = targets   \n",
        "    \n",
        "    # usa shuffle = False para evitar data leakage\n",
        "    X_train, X_test, y_train, y_test = train_test_split(X, y, shuffle = False)\n",
        "    linreg = LinearRegression()\n",
        "    model_multiple = linreg.fit(X_train, y_train)\n",
        "    y_pred = linreg.predict(X_test)\n",
        "    info_feature_importance(model_multiple, X_test, y_test)\n",
        "    info_multiple(model_multiple,X_test, y_test, y_pred)\n",
        "    chart_multiple(y_test, y_pred, label_x, label_y)"
      ]
    },
    {
      "cell_type": "code",
      "execution_count": null,
      "id": "45b84abf",
      "metadata": {},
      "outputs": [],
      "source": [
        "def generate_regression_multiple_normalizer(variaveis, targets, label_x, label_y):\n",
        "    \n",
        "    X = dfApartament[variaveis]\n",
        "    scaler = StandardScaler()\n",
        "    data_scaled = scaler.fit_transform(X)\n",
        "    X_scaled = pd.DataFrame(data_scaled, columns=X.columns)\n",
        "    \n",
        "    y = targets   \n",
        "    \n",
        "    # usa shuffle = False para evitar data leakage\n",
        "    X_train, X_test, y_train, y_test = train_test_split(X_scaled, y, shuffle = False)\n",
        "    linreg = LinearRegression()\n",
        "    model_multiple = linreg.fit(X_train, y_train)\n",
        "    y_pred = linreg.predict(X_test)\n",
        "    info_feature_importance(model_multiple, X_test, y_test)\n",
        "    info_multiple(model_multiple,X_test, y_test, y_pred)\n",
        "    chart_multiple(y_test, y_pred, label_x, label_y)"
      ]
    },
    {
      "cell_type": "markdown",
      "id": "0ed50345",
      "metadata": {},
      "source": [
        "<h5>8.2.1. Regressão por preço do metro quadrado</h5>"
      ]
    },
    {
      "cell_type": "code",
      "execution_count": null,
      "id": "ee240a30",
      "metadata": {},
      "outputs": [],
      "source": [
        "generate_regression_multiple(['lat', 'lon'], dfApartament[\"preco_metro\"],\"Previsões baseando na localização\",\"Preço por metro quadrado\")"
      ]
    },
    {
      "cell_type": "code",
      "execution_count": null,
      "id": "c71fed80",
      "metadata": {},
      "outputs": [],
      "source": [
        "generate_regression_multiple(['lat', 'lon', 'price_usd'], dfApartament[\"preco_metro\"],\"Previsões baseando na localização e valor monetário\",\"Preço por metro quadrado\")"
      ]
    },
    {
      "cell_type": "code",
      "execution_count": null,
      "id": "bea7d5af",
      "metadata": {},
      "outputs": [],
      "source": [
        "generate_regression_multiple(['lat', 'lon', 'surface_total_in_m2_Final'], dfApartament[\"preco_metro\"],\"Previsões baseando na localização e área\",\"Preço por metro quadrado\")"
      ]
    },
    {
      "cell_type": "code",
      "execution_count": null,
      "id": "9b45b7dc",
      "metadata": {},
      "outputs": [],
      "source": [
        "generate_regression_multiple(['lat', 'lon', 'surface_total_in_m2_Final','price_usd'], dfApartament[\"preco_metro\"],\"Previsões baseando na localização, área e valor monetário\",\"Preço por metro quadrado\")"
      ]
    },
    {
      "cell_type": "markdown",
      "id": "fVSMiwiA-sFC",
      "metadata": {
        "id": "fVSMiwiA-sFC"
      },
      "source": [
        "Lembando que : Um valor negativo significa que estamos estimando pior do que usando a média."
      ]
    },
    {
      "cell_type": "markdown",
      "id": "76b32b9f",
      "metadata": {},
      "source": [
        "<h5>8.2.2. Regressão por preço em dólar</h5>"
      ]
    },
    {
      "cell_type": "code",
      "execution_count": null,
      "id": "c7f0861f",
      "metadata": {},
      "outputs": [],
      "source": [
        "generate_regression_multiple(['lat', 'lon'], dfApartament[\"price_usd\"],\"Previsões baseando na localização\",\"Preço em dólar\")"
      ]
    },
    {
      "cell_type": "code",
      "execution_count": null,
      "id": "c74aa0a8",
      "metadata": {},
      "outputs": [],
      "source": [
        "generate_regression_multiple(['lat', 'lon', 'preco_metro'], dfApartament[\"price_usd\"],\"Previsões baseando na localização e preço por metro quadrado\",\"Preço em dólar\")"
      ]
    },
    {
      "cell_type": "code",
      "execution_count": null,
      "id": "Q87Z5xk4-xzn",
      "metadata": {
        "colab": {
          "base_uri": "https://localhost:8080/",
          "height": 739
        },
        "id": "Q87Z5xk4-xzn",
        "outputId": "99c9a7d6-a790-490d-e374-93756c5a30a7"
      },
      "outputs": [],
      "source": [
        "generate_regression_multiple(['lat', 'lon', 'surface_total_in_m2_Final'], dfApartament[\"price_usd\"],\"Previsões baseando na localização e área\",\"Preço em dólar\")"
      ]
    },
    {
      "cell_type": "code",
      "execution_count": null,
      "id": "jey-De-t-1SD",
      "metadata": {
        "colab": {
          "base_uri": "https://localhost:8080/",
          "height": 739
        },
        "id": "jey-De-t-1SD",
        "outputId": "82b14325-8cda-413f-8fb2-781b6d8c4ffa"
      },
      "outputs": [],
      "source": [
        "generate_regression_multiple(['lat', 'lon', 'surface_total_in_m2_Final','preco_metro'], dfApartament[\"price_usd\"],\"Previsões baseando na localização, área e preço por metro quadrado\",\"Preço em dólar\")"
      ]
    },
    {
      "cell_type": "markdown",
      "id": "64805e69",
      "metadata": {},
      "source": [
        "<p><h5>8.2.3. Normalizando o modelo</h5></p>\n",
        "Levando em consideração o objetivo final, no qual devemos focar no preço do metro quadrado, e baseando na <b>Permutation Importance</b>. Consideramos as variáveis que tem mais influência sobre o modelo e normalizamos os dados antes de treinar utilizando Standard Scaler."
      ]
    },
    {
      "cell_type": "code",
      "execution_count": null,
      "id": "5657f1bc",
      "metadata": {},
      "outputs": [],
      "source": [
        "generate_regression_multiple_normalizer(['surface_total_in_m2_Final','price_usd'], dfApartament[\"preco_metro\"],\"Previsões baseando na área e valor monetário\",\"Preço por metro quadrado\")"
      ]
    },
    {
      "cell_type": "markdown",
      "id": "47f290fa",
      "metadata": {
        "id": "47f290fa"
      },
      "source": [
        "<h4>8.3. Regressão RLM com statsmodels</h4>"
      ]
    },
    {
      "cell_type": "markdown",
      "id": "bf506b55",
      "metadata": {},
      "source": [
        "<span>A regressão linear robusta tem maior eficiência para dados com muita discrepância, visto que, a estimativa usando os métodos de Huber são menos distorcidas por causa dos outlier.</span>"
      ]
    },
    {
      "cell_type": "code",
      "execution_count": null,
      "id": "95e3faad",
      "metadata": {},
      "outputs": [],
      "source": [
        "def info_rlm(y, predictions_rlm, model):\n",
        "    \n",
        "    # Imprimimos o MSE e um resumo do modelo \n",
        "    print (\"MSE:\", metrics.mean_squared_error(y, predictions_rlm))\n",
        "    print (\"RMSE:\",np.sqrt(metrics.mean_squared_error(y, predictions_rlm)) )\n",
        "    print ('MAE:', metrics.mean_absolute_error(y, predictions_rlm))\n",
        "    print ('R2:', metrics.r2_score(y, predictions_rlm))\n",
        "    print (model.summary())"
      ]
    },
    {
      "cell_type": "code",
      "execution_count": null,
      "id": "f3888e30",
      "metadata": {
        "colab": {
          "base_uri": "https://localhost:8080/"
        },
        "id": "f3888e30",
        "outputId": "3c7d9756-beea-4ead-cce8-e6c85ee41a24"
      },
      "outputs": [],
      "source": [
        "def chart_rlm(y,predictions_rlm,label_x, label_y):\n",
        "     # Plotamos os resultados\n",
        "    plt.figure(figsize = (20,10))\n",
        "    plt.plot(y, \n",
        "            y, \n",
        "            '-.', \n",
        "            c = 'grey'\n",
        "            )\n",
        "\n",
        "    plt.scatter(predictions_rlm, \n",
        "                y, \n",
        "                s = 30, \n",
        "                c = 'green', \n",
        "                marker = '+', \n",
        "                zorder = 10\n",
        "            )\n",
        "    plt.title('Regressão linear RLM', font)\n",
        "    plt.xlabel(label_x, font)\n",
        "    plt.ylabel(label_y, font)\n",
        "    plt.show()\n",
        "\n",
        "\n",
        "\n"
      ]
    },
    {
      "cell_type": "code",
      "execution_count": null,
      "id": "a28d7166",
      "metadata": {},
      "outputs": [],
      "source": [
        "def generate_regression_rlm(variaveis, targets,label_x, label_y):\n",
        "    X = dfApartament[variaveis]\n",
        "    y = dfApartament[targets]\n",
        "    # Teremos que agregar explícitamente uma constante:\n",
        "    X = sm.add_constant(X)\n",
        "    resrlm = sm.RLM(y, X).fit()\n",
        "    predictions_rlm = resrlm.predict(X)\n",
        "\n",
        "    chart_rlm(y,predictions_rlm, label_x, label_y)\n",
        "    info_rlm(y, predictions_rlm, resrlm)\n",
        "    "
      ]
    },
    {
      "cell_type": "markdown",
      "id": "11986ea5",
      "metadata": {
        "id": "11986ea5"
      },
      "source": [
        "<h5>8.3.1. Regressão por preço do metro quadrado</h5>"
      ]
    },
    {
      "cell_type": "code",
      "execution_count": null,
      "id": "147c9dc1",
      "metadata": {},
      "outputs": [],
      "source": [
        "generate_regression_rlm(['lat', 'lon', 'price_usd'],[\"preco_metro\"],\"Previsões baseando na localização e valor monetário\", \"Preço por metro quadrado\")"
      ]
    },
    {
      "cell_type": "code",
      "execution_count": null,
      "id": "efefe631",
      "metadata": {},
      "outputs": [],
      "source": [
        "generate_regression_rlm(['lat', 'lon', 'surface_total_in_m2_Final', 'price_usd'],[\"preco_metro\"],\"Previsões baseando na localização, área e valor monetário\", \"Preço por metro quadrado\")"
      ]
    },
    {
      "cell_type": "code",
      "execution_count": null,
      "id": "af0a4af9",
      "metadata": {},
      "outputs": [],
      "source": [
        "generate_regression_rlm(['lat', 'lon', 'surface_total_in_m2_Final'],[\"preco_metro\"],\"Previsões baseando na localização e área\", \"Preço por metro quadrado\")"
      ]
    },
    {
      "cell_type": "code",
      "execution_count": null,
      "id": "d3476954",
      "metadata": {},
      "outputs": [],
      "source": [
        "generate_regression_rlm(['surface_total_in_m2_Final', 'price_usd'],[\"preco_metro\"],\"Previsões baseando na localização, área e valor monetário\", \"Preço por metro quadrado\")"
      ]
    },
    {
      "cell_type": "markdown",
      "id": "152a99c3",
      "metadata": {},
      "source": [
        "<h5>8.3.2. Regressão por preço em dólar</h5>"
      ]
    },
    {
      "cell_type": "code",
      "execution_count": null,
      "id": "eb0a371b",
      "metadata": {},
      "outputs": [],
      "source": [
        "generate_regression_rlm(['lat', 'lon', 'preco_metro'],[\"price_usd\"],\"Previsões baseando na localização e preço por metro quadrado\", \"Preço em dólar\")"
      ]
    },
    {
      "cell_type": "code",
      "execution_count": null,
      "id": "83e7cde8",
      "metadata": {},
      "outputs": [],
      "source": [
        "generate_regression_rlm(['lat', 'lon', 'surface_total_in_m2_Final', 'preco_metro'],[\"price_usd\"],\"Previsões baseando na localização, área e preço por metro quadrado\", \"Preço em dólar\")"
      ]
    },
    {
      "cell_type": "code",
      "execution_count": null,
      "id": "84e20b5d",
      "metadata": {},
      "outputs": [],
      "source": [
        "generate_regression_rlm(['lat', 'lon', 'surface_total_in_m2_Final'],[\"price_usd\"],\"Previsões baseando na localização e área\", \"Preço em dólar\")"
      ]
    },
    {
      "cell_type": "markdown",
      "id": "MrI2L58mnis_",
      "metadata": {
        "id": "MrI2L58mnis_"
      },
      "source": [
        "<h4>8.4. Regressão Decision Tree Regressor</h4>"
      ]
    },
    {
      "cell_type": "markdown",
      "id": "617ecd4c",
      "metadata": {},
      "source": [
        "<span>Apesar de não ser um modelo linear é uma otima implementação, pois outlier ou valores nulos não são prejudiciais. E também é um algoritmo que lida bem com dados nominais.</span>"
      ]
    },
    {
      "cell_type": "code",
      "execution_count": null,
      "id": "d837649d",
      "metadata": {},
      "outputs": [],
      "source": [
        "def chart_dtr(y, predictions, column_names):\n",
        "    names = ', '.join(column_names.values)\n",
        "    plt.figure(figsize = (20,10))\n",
        "    plt.plot(y, \n",
        "         y, \n",
        "         '-.', \n",
        "         c = 'grey'\n",
        "        )\n",
        "    \n",
        "    plt.scatter(predictions, \n",
        "            y, \n",
        "            s = 50, \n",
        "            c = 'purple', \n",
        "            marker = '+', \n",
        "            zorder = 10\n",
        "           )   \n",
        "    \n",
        "    plt.title(f\"Previsões baseando em {names}\", font)\n",
        "    plt.xlabel(f\"Previsões\", font)\n",
        "    plt.ylabel(\"Preço por metro quatrado\", font)\n",
        "    plt.show()"
      ]
    },
    {
      "cell_type": "code",
      "execution_count": null,
      "id": "951b983a",
      "metadata": {},
      "outputs": [],
      "source": [
        "def generate_train_test(X, y):\n",
        "    X_train, X_test, y_train, y_test = train_test_split(X, y, shuffle = False)\n",
        "    return X_train, X_test, y_train, y_test"
      ]
    },
    {
      "cell_type": "code",
      "execution_count": null,
      "id": "c8af38e1",
      "metadata": {},
      "outputs": [],
      "source": [
        "def info_dtr(tree_model,X_dtr_test, y_dtr_test, y_dtr_pred):\n",
        "    print ('R2_train:', tree_model.score(X_dtr_test, y_dtr_test))\n",
        "    print (\"MSE:\", metrics.mean_squared_error(y_dtr_test, y_dtr_pred))\n",
        "    print (\"RMSE:\",np.sqrt(metrics.mean_squared_error(y_dtr_test, y_dtr_pred)) )\n",
        "    print ('MAE:', metrics.mean_absolute_error(y_dtr_test, y_dtr_pred))\n",
        "    print ('R2:', metrics.r2_score(y_dtr_test, y_dtr_pred))"
      ]
    },
    {
      "cell_type": "code",
      "execution_count": null,
      "id": "9b744165",
      "metadata": {},
      "outputs": [],
      "source": [
        "def generate_regression_dtr(variaveis):\n",
        "    X_dtr = dfApartament[variaveis]\n",
        "    scaler_dtr = StandardScaler()\n",
        "    data_scaled_dtr = scaler_dtr.fit_transform(X_dtr)\n",
        "    X_dtr_scaled = pd.DataFrame(data_scaled_dtr, columns=X_dtr.columns)\n",
        "\n",
        "    y_dtr = dfApartament[\"preco_metro\"]\n",
        "\n",
        "    X_dtr_train, X_dtr_test, y_dtr_train, y_dtr_test = generate_train_test(X_dtr_scaled, y_dtr)\n",
        "\n",
        "    tree_model = DecisionTreeRegressor(random_state=42)\n",
        "    tree_model.fit(X_dtr_train, y_dtr_train)\n",
        "\n",
        "    y_dtr_pred = tree_model.predict(X_dtr_test)\n",
        "\n",
        "    info_dtr(tree_model,X_dtr_test, y_dtr_test, y_dtr_pred)\n",
        "    chart_dtr(y_dtr_test, y_dtr_pred, X_dtr_test.columns)"
      ]
    },
    {
      "cell_type": "code",
      "execution_count": null,
      "id": "8aaKwcrCfcKT",
      "metadata": {
        "colab": {
          "base_uri": "https://localhost:8080/",
          "height": 382
        },
        "id": "8aaKwcrCfcKT",
        "outputId": "59896b82-9e40-4118-b4bc-a8ccf6650737"
      },
      "outputs": [],
      "source": [
        "generate_regression_dtr(['lat', 'lon','surface_total_in_m2_Final','price_usd'])"
      ]
    },
    {
      "cell_type": "code",
      "execution_count": null,
      "id": "3dcfd3f8",
      "metadata": {},
      "outputs": [],
      "source": [
        "generate_regression_dtr(['surface_total_in_m2_Final','price_usd'])"
      ]
    }
  ],
  "metadata": {
    "colab": {
      "collapsed_sections": [],
      "name": "price_properties.ipynb",
      "provenance": []
    },
    "interpreter": {
      "hash": "95cea0fe048316b1c08b156125cc192c71eabf8c21f7ce48c63e5fea79c923e9"
    },
    "kernelspec": {
      "display_name": "Python 3 (ipykernel)",
      "language": "python",
      "name": "python3"
    },
    "language_info": {
      "codemirror_mode": {
        "name": "ipython",
        "version": 3
      },
      "file_extension": ".py",
      "mimetype": "text/x-python",
      "name": "python",
      "nbconvert_exporter": "python",
      "pygments_lexer": "ipython3",
      "version": "3.10.2"
    }
  },
  "nbformat": 4,
  "nbformat_minor": 5
}
